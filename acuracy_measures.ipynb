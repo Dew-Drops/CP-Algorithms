{
  "nbformat": 4,
  "nbformat_minor": 0,
  "metadata": {
    "colab": {
      "provenance": [],
      "collapsed_sections": [],
      "toc_visible": true,
      "authorship_tag": "ABX9TyMo7farWJb7SOsbv48bhTW4",
      "include_colab_link": true
    },
    "kernelspec": {
      "name": "python3",
      "display_name": "Python 3"
    },
    "language_info": {
      "name": "python"
    }
  },
  "cells": [
    {
      "cell_type": "markdown",
      "metadata": {
        "id": "view-in-github",
        "colab_type": "text"
      },
      "source": [
        "<a href=\"https://colab.research.google.com/github/Dew-Drops/CP-Algorithms/blob/main/acuracy_measures.ipynb\" target=\"_parent\"><img src=\"https://colab.research.google.com/assets/colab-badge.svg\" alt=\"Open In Colab\"/></a>"
      ]
    },
    {
      "cell_type": "code",
      "source": [
        "subject=[1,0,1,0,1,1,0,1,0,0]\n",
        "prob=[0.8,0.4,0.9,0.45,0.12,0.24,0.36,0.95,0.72,0.25]\n",
        "#genuine=1  imposter=0 \n",
        "prob_check=[0.0,0.2,0.4,0.6,0.8,1.0]\n",
        "#FMR=FP/(FP+TN)\n",
        "#FNMR=FN/(FN+TP)\n",
        "d={'TP':[1,1],'FP':[0,1],'FN':[1,0],'TN':[0,0]}  \n",
        "xpoint=[]\n",
        "ypoint=[]\n",
        "for x in prob_check:\n",
        "    p=x \n",
        "    temp=[]\n",
        "    for i in range(len(prob)):\n",
        "        if prob[i]>=p:\n",
        "            temp.append(1)\n",
        "        else:\n",
        "            temp.append(0)\n",
        "    tp,fn,fp,tn=0,0,0,0 \n",
        "    for i in range(10):\n",
        "        if subject[i]==1 and temp[i]==1:\n",
        "            tp+=1 \n",
        "        if subject[i]==0 and temp[i]==1:\n",
        "            fp+=1 \n",
        "        if subject[i]==1 and temp[i]==0:\n",
        "            fn+=1 \n",
        "        if subject[i]==0 and temp[i]==0:\n",
        "            tn+=1 \n",
        "    x=tp/(tp+fn)\n",
        "    y=fp/(fp+tn)\n",
        "    xpoint.append(x)\n",
        "    ypoint.append(y)\n",
        "import matplotlib.pyplot as plt\n",
        "import numpy as np \n",
        "plt.plot(xpoint,ypoint)\n",
        "plt.xlabel('TPR ->',c='g')\n",
        "plt.ylabel('FPR ->',c='g')\n",
        "i=1\n",
        "for x,y in zip(xpoint,ypoint):\n",
        "    label = f\"({i},{x},{y})\"\n",
        "    i+=1\n",
        "    plt.annotate(label, # this is the text\n",
        "                 (x,y), # these are the coordinates to position the label\n",
        "                 textcoords=\"offset points\", # how to position the text\n",
        "                 xytext=(0,10), # distance from text to points (x,y)\n",
        "                 ha='center') # horizontal alignment can be left, right or center\n",
        "plt.show()\n",
        "        "
      ],
      "metadata": {
        "colab": {
          "base_uri": "https://localhost:8080/",
          "height": 287
        },
        "id": "_MbM7STxDhFI",
        "outputId": "e95ad2cf-885d-467f-b9e7-b70bc36e5407"
      },
      "execution_count": 14,
      "outputs": [
        {
          "output_type": "display_data",
          "data": {
            "text/plain": [
              "<Figure size 432x288 with 1 Axes>"
            ],
            "image/png": "[encoded data removed]"
          },
          "metadata": {
            "needs_background": "light"
          }
        }
      ]
    }
  ]
}